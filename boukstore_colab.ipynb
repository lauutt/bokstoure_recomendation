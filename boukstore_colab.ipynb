{
  "cells": [
    {
      "cell_type": "markdown",
      "metadata": {
        "id": "q8ijGoBeXzvT"
      },
      "source": [
        "# **Proyecto de Machine Learning para pequeña librería Bokstoure** #\n",
        "### Sistema de Recomendación: Filtrado basado en Contenido ###\n",
        "#### Licenciatura en IA - Aprendizaje de Máquina - Prof. Darío Príncipi\n",
        "#### Alumnos: Lautaro Barceló y Jose Zambrano"
      ]
    },
    {
      "cell_type": "markdown",
      "metadata": {
        "id": "uWZ3LaeIXzvV"
      },
      "source": [
        "## **Definición del problema**\n",
        "El objetivo principal es desarrollar un sistema de recomendación de libros para una librería que tiene tienda física y va a incursionar en el mundo online. El problema se puede dividir en dos fases. En la primera fase (MVP), se quiere crear un sistema que recomiende libros basándose en el género literario y que presente estas recomendaciones ordenadas por un ranking de popularidad. También crearemos un segundo modelo de filtrado colaborativo que recomiende en base a los gustos del usuario.\n",
        "También haremos un prototipo que permita predecir que rating le asignaría un usuario a un libro que aún no leyó, lo que permitiría, entre otras cosas, agregar un elemento lúdico a la relación entre el usuario y la tienda online: una especie de bola del futuro.\n",
        "\n",
        "## **Objetivos específicos**:\n",
        "Desarrollar un modelo de recomendación basado en género literario.\n",
        "Crear un ranking de popularidad para los libros.\n",
        "Escalar el modelo para incluir recomendaciones basadas las reseñas de usuarios.\n",
        "\n",
        "## **Restricciones**:\n",
        "Utilizar recursos computacionales de manera eficiente, especialmente en la fase inicial (MVP).\n",
        "Asegurar que las recomendaciones sean relevantes y útiles para los usuarios.\n",
        "Mantener la escalabilidad para futuras expansiones del modelo."
      ]
    },
    {
      "cell_type": "markdown",
      "metadata": {
        "id": "wrAVpjSBXzvV"
      },
      "source": [
        "## **Exploración y análisis de datos:**\n",
        "#### Adquisición de datos:\n",
        "Para presentar el prototipo, utilizamos el dataset de Amazon Books Reviews https://www.kaggle.com/datasets/mohamedbakhet/amazon-books-reviews\n",
        "Utilizaremos solamente el archivo books.csv para el MVP, y los ratings para generar recomendaciones en base a las reseñas que han dejado los usuarios.\n",
        "#### Exploración de datos:\n",
        "Identificar las características disponibles en la base de datos, como título del libro, autor, género, etc.\n",
        "Analizar la distribución de géneros y tags para entender la diversidad de la colección.\n",
        "Revisar la calidad de los datos para manejar posibles valores nulos o inconsistentes.\n",
        "#### Preprocesamiento de datos:\n",
        "Limpiar y preprocesar los datos eliminando duplicados, valores nulos o inconsistentes.\n",
        "Transformar los datos en un formato adecuado para el entrenamiento del modelo, como matrices de características.\n",
        "#### Visualización de datos:\n",
        "Utilizar gráficos y visualizaciones para entender mejor la distribución de géneros, la popularidad de los libros y cualquier patrón evidente."
      ]
    },
    {
      "cell_type": "markdown",
      "metadata": {
        "id": "0fcyejU2XzvV"
      },
      "source": [
        "## **Selección del modelo:**\n",
        "Elegir un modelo adecuado para recomendaciones basadas en género.\n",
        "\n",
        "#### Preparación de datos:\n",
        "Dividir el conjunto de datos en conjuntos de entrenamiento y prueba para evaluar el rendimiento del modelo.\n",
        "Representar los datos en un formato compatible con el modelo seleccionado.\n",
        "\n",
        "#### Diseño del modelo:\n",
        "Definir la arquitectura del modelo, teniendo en cuenta la entrada (título del libro) y la salida (recomendación/es).\n",
        "d. Entrenamiento del modelo:\n",
        "\n",
        "#### Utilizar el conjunto de entrenamiento para ajustar los parámetros del modelo:\n",
        "Supervisar el rendimiento del modelo utilizando el conjunto de prueba.\n",
        "\n",
        "#### Validación del modelo:\n",
        "Evaluar la capacidad del modelo para hacer recomendaciones precisas basadas en género.\n",
        "Ajustar hiperparámetros si es necesario para mejorar el rendimiento."
      ]
    },
    {
      "cell_type": "markdown",
      "metadata": {
        "id": "tDDIa3erXzvV"
      },
      "source": [
        "## **Análisis exploratorio de datos** ##"
      ]
    },
    {
      "cell_type": "markdown",
      "metadata": {
        "id": "brj2abPgXzvV"
      },
      "source": [
        "## Importar dataset y librerías ##"
      ]
    },
    {
      "cell_type": "code",
      "source": [
        "from google.colab import drive\n",
        "drive.mount('/content/drive')"
      ],
      "metadata": {
        "colab": {
          "base_uri": "https://localhost:8080/"
        },
        "id": "YMTUKvGfX8an",
        "outputId": "f7419bb5-2af9-4ffc-c193-78cefbe74be5"
      },
      "execution_count": null,
      "outputs": [
        {
          "output_type": "stream",
          "name": "stdout",
          "text": [
            "Mounted at /content/drive\n"
          ]
        }
      ]
    },
    {
      "cell_type": "code",
      "execution_count": null,
      "metadata": {
        "id": "XoRks7QKXzvW",
        "colab": {
          "base_uri": "https://localhost:8080/",
          "height": 399
        },
        "outputId": "9b84aa58-8d2d-4161-fa76-8c14cf21c1bd"
      },
      "outputs": [
        {
          "output_type": "error",
          "ename": "FileNotFoundError",
          "evalue": "ignored",
          "traceback": [
            "\u001b[0;31m---------------------------------------------------------------------------\u001b[0m",
            "\u001b[0;31mFileNotFoundError\u001b[0m                         Traceback (most recent call last)",
            "\u001b[0;32m<ipython-input-3-bb5c00620251>\u001b[0m in \u001b[0;36m<cell line: 6>\u001b[0;34m()\u001b[0m\n\u001b[1;32m      4\u001b[0m \u001b[0;34m\u001b[0m\u001b[0m\n\u001b[1;32m      5\u001b[0m \u001b[0;31m# Se debe ingresar el path donde se encuentra el archivo books_data.csv\u001b[0m\u001b[0;34m\u001b[0m\u001b[0;34m\u001b[0m\u001b[0m\n\u001b[0;32m----> 6\u001b[0;31m \u001b[0mbooks\u001b[0m \u001b[0;34m=\u001b[0m \u001b[0mpd\u001b[0m\u001b[0;34m.\u001b[0m\u001b[0mread_csv\u001b[0m\u001b[0;34m(\u001b[0m\u001b[0;34m'/Users/lautarobarcelo/Downloads/archive/books_data.csv'\u001b[0m\u001b[0;34m)\u001b[0m\u001b[0;34m\u001b[0m\u001b[0;34m\u001b[0m\u001b[0m\n\u001b[0m\u001b[1;32m      7\u001b[0m \u001b[0;31m#books = pd.read_csv('/content/drive/MyDrive/csv/books_data.csv')\u001b[0m\u001b[0;34m\u001b[0m\u001b[0;34m\u001b[0m\u001b[0m\n",
            "\u001b[0;32m/usr/local/lib/python3.10/dist-packages/pandas/util/_decorators.py\u001b[0m in \u001b[0;36mwrapper\u001b[0;34m(*args, **kwargs)\u001b[0m\n\u001b[1;32m    209\u001b[0m                 \u001b[0;32melse\u001b[0m\u001b[0;34m:\u001b[0m\u001b[0;34m\u001b[0m\u001b[0;34m\u001b[0m\u001b[0m\n\u001b[1;32m    210\u001b[0m                     \u001b[0mkwargs\u001b[0m\u001b[0;34m[\u001b[0m\u001b[0mnew_arg_name\u001b[0m\u001b[0;34m]\u001b[0m \u001b[0;34m=\u001b[0m \u001b[0mnew_arg_value\u001b[0m\u001b[0;34m\u001b[0m\u001b[0;34m\u001b[0m\u001b[0m\n\u001b[0;32m--> 211\u001b[0;31m             \u001b[0;32mreturn\u001b[0m \u001b[0mfunc\u001b[0m\u001b[0;34m(\u001b[0m\u001b[0;34m*\u001b[0m\u001b[0margs\u001b[0m\u001b[0;34m,\u001b[0m \u001b[0;34m**\u001b[0m\u001b[0mkwargs\u001b[0m\u001b[0;34m)\u001b[0m\u001b[0;34m\u001b[0m\u001b[0;34m\u001b[0m\u001b[0m\n\u001b[0m\u001b[1;32m    212\u001b[0m \u001b[0;34m\u001b[0m\u001b[0m\n\u001b[1;32m    213\u001b[0m         \u001b[0;32mreturn\u001b[0m \u001b[0mcast\u001b[0m\u001b[0;34m(\u001b[0m\u001b[0mF\u001b[0m\u001b[0;34m,\u001b[0m \u001b[0mwrapper\u001b[0m\u001b[0;34m)\u001b[0m\u001b[0;34m\u001b[0m\u001b[0;34m\u001b[0m\u001b[0m\n",
            "\u001b[0;32m/usr/local/lib/python3.10/dist-packages/pandas/util/_decorators.py\u001b[0m in \u001b[0;36mwrapper\u001b[0;34m(*args, **kwargs)\u001b[0m\n\u001b[1;32m    329\u001b[0m                     \u001b[0mstacklevel\u001b[0m\u001b[0;34m=\u001b[0m\u001b[0mfind_stack_level\u001b[0m\u001b[0;34m(\u001b[0m\u001b[0;34m)\u001b[0m\u001b[0;34m,\u001b[0m\u001b[0;34m\u001b[0m\u001b[0;34m\u001b[0m\u001b[0m\n\u001b[1;32m    330\u001b[0m                 )\n\u001b[0;32m--> 331\u001b[0;31m             \u001b[0;32mreturn\u001b[0m \u001b[0mfunc\u001b[0m\u001b[0;34m(\u001b[0m\u001b[0;34m*\u001b[0m\u001b[0margs\u001b[0m\u001b[0;34m,\u001b[0m \u001b[0;34m**\u001b[0m\u001b[0mkwargs\u001b[0m\u001b[0;34m)\u001b[0m\u001b[0;34m\u001b[0m\u001b[0;34m\u001b[0m\u001b[0m\n\u001b[0m\u001b[1;32m    332\u001b[0m \u001b[0;34m\u001b[0m\u001b[0m\n\u001b[1;32m    333\u001b[0m         \u001b[0;31m# error: \"Callable[[VarArg(Any), KwArg(Any)], Any]\" has no\u001b[0m\u001b[0;34m\u001b[0m\u001b[0;34m\u001b[0m\u001b[0m\n",
            "\u001b[0;32m/usr/local/lib/python3.10/dist-packages/pandas/io/parsers/readers.py\u001b[0m in \u001b[0;36mread_csv\u001b[0;34m(filepath_or_buffer, sep, delimiter, header, names, index_col, usecols, squeeze, prefix, mangle_dupe_cols, dtype, engine, converters, true_values, false_values, skipinitialspace, skiprows, skipfooter, nrows, na_values, keep_default_na, na_filter, verbose, skip_blank_lines, parse_dates, infer_datetime_format, keep_date_col, date_parser, dayfirst, cache_dates, iterator, chunksize, compression, thousands, decimal, lineterminator, quotechar, quoting, doublequote, escapechar, comment, encoding, encoding_errors, dialect, error_bad_lines, warn_bad_lines, on_bad_lines, delim_whitespace, low_memory, memory_map, float_precision, storage_options)\u001b[0m\n\u001b[1;32m    948\u001b[0m     \u001b[0mkwds\u001b[0m\u001b[0;34m.\u001b[0m\u001b[0mupdate\u001b[0m\u001b[0;34m(\u001b[0m\u001b[0mkwds_defaults\u001b[0m\u001b[0;34m)\u001b[0m\u001b[0;34m\u001b[0m\u001b[0;34m\u001b[0m\u001b[0m\n\u001b[1;32m    949\u001b[0m \u001b[0;34m\u001b[0m\u001b[0m\n\u001b[0;32m--> 950\u001b[0;31m     \u001b[0;32mreturn\u001b[0m \u001b[0m_read\u001b[0m\u001b[0;34m(\u001b[0m\u001b[0mfilepath_or_buffer\u001b[0m\u001b[0;34m,\u001b[0m \u001b[0mkwds\u001b[0m\u001b[0;34m)\u001b[0m\u001b[0;34m\u001b[0m\u001b[0;34m\u001b[0m\u001b[0m\n\u001b[0m\u001b[1;32m    951\u001b[0m \u001b[0;34m\u001b[0m\u001b[0m\n\u001b[1;32m    952\u001b[0m \u001b[0;34m\u001b[0m\u001b[0m\n",
            "\u001b[0;32m/usr/local/lib/python3.10/dist-packages/pandas/io/parsers/readers.py\u001b[0m in \u001b[0;36m_read\u001b[0;34m(filepath_or_buffer, kwds)\u001b[0m\n\u001b[1;32m    603\u001b[0m \u001b[0;34m\u001b[0m\u001b[0m\n\u001b[1;32m    604\u001b[0m     \u001b[0;31m# Create the parser.\u001b[0m\u001b[0;34m\u001b[0m\u001b[0;34m\u001b[0m\u001b[0m\n\u001b[0;32m--> 605\u001b[0;31m     \u001b[0mparser\u001b[0m \u001b[0;34m=\u001b[0m \u001b[0mTextFileReader\u001b[0m\u001b[0;34m(\u001b[0m\u001b[0mfilepath_or_buffer\u001b[0m\u001b[0;34m,\u001b[0m \u001b[0;34m**\u001b[0m\u001b[0mkwds\u001b[0m\u001b[0;34m)\u001b[0m\u001b[0;34m\u001b[0m\u001b[0;34m\u001b[0m\u001b[0m\n\u001b[0m\u001b[1;32m    606\u001b[0m \u001b[0;34m\u001b[0m\u001b[0m\n\u001b[1;32m    607\u001b[0m     \u001b[0;32mif\u001b[0m \u001b[0mchunksize\u001b[0m \u001b[0;32mor\u001b[0m \u001b[0miterator\u001b[0m\u001b[0;34m:\u001b[0m\u001b[0;34m\u001b[0m\u001b[0;34m\u001b[0m\u001b[0m\n",
            "\u001b[0;32m/usr/local/lib/python3.10/dist-packages/pandas/io/parsers/readers.py\u001b[0m in \u001b[0;36m__init__\u001b[0;34m(self, f, engine, **kwds)\u001b[0m\n\u001b[1;32m   1440\u001b[0m \u001b[0;34m\u001b[0m\u001b[0m\n\u001b[1;32m   1441\u001b[0m         \u001b[0mself\u001b[0m\u001b[0;34m.\u001b[0m\u001b[0mhandles\u001b[0m\u001b[0;34m:\u001b[0m \u001b[0mIOHandles\u001b[0m \u001b[0;34m|\u001b[0m \u001b[0;32mNone\u001b[0m \u001b[0;34m=\u001b[0m \u001b[0;32mNone\u001b[0m\u001b[0;34m\u001b[0m\u001b[0;34m\u001b[0m\u001b[0m\n\u001b[0;32m-> 1442\u001b[0;31m         \u001b[0mself\u001b[0m\u001b[0;34m.\u001b[0m\u001b[0m_engine\u001b[0m \u001b[0;34m=\u001b[0m \u001b[0mself\u001b[0m\u001b[0;34m.\u001b[0m\u001b[0m_make_engine\u001b[0m\u001b[0;34m(\u001b[0m\u001b[0mf\u001b[0m\u001b[0;34m,\u001b[0m \u001b[0mself\u001b[0m\u001b[0;34m.\u001b[0m\u001b[0mengine\u001b[0m\u001b[0;34m)\u001b[0m\u001b[0;34m\u001b[0m\u001b[0;34m\u001b[0m\u001b[0m\n\u001b[0m\u001b[1;32m   1443\u001b[0m \u001b[0;34m\u001b[0m\u001b[0m\n\u001b[1;32m   1444\u001b[0m     \u001b[0;32mdef\u001b[0m \u001b[0mclose\u001b[0m\u001b[0;34m(\u001b[0m\u001b[0mself\u001b[0m\u001b[0;34m)\u001b[0m \u001b[0;34m->\u001b[0m \u001b[0;32mNone\u001b[0m\u001b[0;34m:\u001b[0m\u001b[0;34m\u001b[0m\u001b[0;34m\u001b[0m\u001b[0m\n",
            "\u001b[0;32m/usr/local/lib/python3.10/dist-packages/pandas/io/parsers/readers.py\u001b[0m in \u001b[0;36m_make_engine\u001b[0;34m(self, f, engine)\u001b[0m\n\u001b[1;32m   1733\u001b[0m                 \u001b[0;32mif\u001b[0m \u001b[0;34m\"b\"\u001b[0m \u001b[0;32mnot\u001b[0m \u001b[0;32min\u001b[0m \u001b[0mmode\u001b[0m\u001b[0;34m:\u001b[0m\u001b[0;34m\u001b[0m\u001b[0;34m\u001b[0m\u001b[0m\n\u001b[1;32m   1734\u001b[0m                     \u001b[0mmode\u001b[0m \u001b[0;34m+=\u001b[0m \u001b[0;34m\"b\"\u001b[0m\u001b[0;34m\u001b[0m\u001b[0;34m\u001b[0m\u001b[0m\n\u001b[0;32m-> 1735\u001b[0;31m             self.handles = get_handle(\n\u001b[0m\u001b[1;32m   1736\u001b[0m                 \u001b[0mf\u001b[0m\u001b[0;34m,\u001b[0m\u001b[0;34m\u001b[0m\u001b[0;34m\u001b[0m\u001b[0m\n\u001b[1;32m   1737\u001b[0m                 \u001b[0mmode\u001b[0m\u001b[0;34m,\u001b[0m\u001b[0;34m\u001b[0m\u001b[0;34m\u001b[0m\u001b[0m\n",
            "\u001b[0;32m/usr/local/lib/python3.10/dist-packages/pandas/io/common.py\u001b[0m in \u001b[0;36mget_handle\u001b[0;34m(path_or_buf, mode, encoding, compression, memory_map, is_text, errors, storage_options)\u001b[0m\n\u001b[1;32m    854\u001b[0m         \u001b[0;32mif\u001b[0m \u001b[0mioargs\u001b[0m\u001b[0;34m.\u001b[0m\u001b[0mencoding\u001b[0m \u001b[0;32mand\u001b[0m \u001b[0;34m\"b\"\u001b[0m \u001b[0;32mnot\u001b[0m \u001b[0;32min\u001b[0m \u001b[0mioargs\u001b[0m\u001b[0;34m.\u001b[0m\u001b[0mmode\u001b[0m\u001b[0;34m:\u001b[0m\u001b[0;34m\u001b[0m\u001b[0;34m\u001b[0m\u001b[0m\n\u001b[1;32m    855\u001b[0m             \u001b[0;31m# Encoding\u001b[0m\u001b[0;34m\u001b[0m\u001b[0;34m\u001b[0m\u001b[0m\n\u001b[0;32m--> 856\u001b[0;31m             handle = open(\n\u001b[0m\u001b[1;32m    857\u001b[0m                 \u001b[0mhandle\u001b[0m\u001b[0;34m,\u001b[0m\u001b[0;34m\u001b[0m\u001b[0;34m\u001b[0m\u001b[0m\n\u001b[1;32m    858\u001b[0m                 \u001b[0mioargs\u001b[0m\u001b[0;34m.\u001b[0m\u001b[0mmode\u001b[0m\u001b[0;34m,\u001b[0m\u001b[0;34m\u001b[0m\u001b[0;34m\u001b[0m\u001b[0m\n",
            "\u001b[0;31mFileNotFoundError\u001b[0m: [Errno 2] No such file or directory: '/Users/lautarobarcelo/Downloads/archive/books_data.csv'"
          ]
        }
      ],
      "source": [
        "import pandas as pd\n",
        "from sklearn.feature_extraction.text import TfidfVectorizer\n",
        "from sklearn.metrics.pairwise import cosine_similarity\n",
        "\n",
        "# Se debe ingresar el path donde se encuentra el archivo books_data.csv\n",
        "books = pd.read_csv('/Users/lautarobarcelo/Downloads/archive/books_data.csv')\n",
        "#books = pd.read_csv('/content/drive/MyDrive/csv/books_data.csv')\n"
      ]
    },
    {
      "cell_type": "code",
      "source": [
        "rating=pd.read_csv('/content/drive/MyDrive/csv/Books_rating.csv')"
      ],
      "metadata": {
        "id": "irukld3SeWO8"
      },
      "execution_count": null,
      "outputs": []
    },
    {
      "cell_type": "code",
      "source": [
        "rating.head()"
      ],
      "metadata": {
        "id": "hGMz1biGe_3P"
      },
      "execution_count": null,
      "outputs": []
    },
    {
      "cell_type": "markdown",
      "metadata": {
        "id": "0i4xulIGXzvW"
      },
      "source": [
        "Aquí podemos observar de qué consta el dataset y cuáles son los datos en sus columnas. Como podemos ver, algunas columnas tienen valores nulos o mal ingresados."
      ]
    },
    {
      "cell_type": "code",
      "execution_count": null,
      "metadata": {
        "id": "73BCgkwGXzvW"
      },
      "outputs": [],
      "source": [
        "books.head(10)"
      ]
    },
    {
      "cell_type": "markdown",
      "metadata": {
        "id": "1rMgLl_bXzvX"
      },
      "source": [
        "## Importar librería para preprocesar el dato de interés, que en este caso es Categories ##"
      ]
    },
    {
      "cell_type": "markdown",
      "metadata": {
        "id": "lJ-LgJVLXzvX"
      },
      "source": [
        "Utizamos la librería \"ast\" para convertir los strings que componen los valores del DataFrame \"books\" y que imitan la fórmula de una lista en Python."
      ]
    },
    {
      "cell_type": "code",
      "execution_count": null,
      "metadata": {
        "id": "ywC905GLXzvX"
      },
      "outputs": [],
      "source": [
        "\n",
        "import ast"
      ]
    },
    {
      "cell_type": "code",
      "execution_count": null,
      "metadata": {
        "id": "48f1Ayl2XzvX"
      },
      "outputs": [],
      "source": [
        "def process_categories(categories):\n",
        "    try:\n",
        "        categories_list = ast.literal_eval(categories)  # Intenta convertir la cadena en una lista\n",
        "        if isinstance(categories_list, list) and len(categories_list) > 0:\n",
        "            return categories_list[0]  # Devuelve el primer elemento de la lista\n",
        "        else:\n",
        "            return None  # Devuelve None si la cadena parece ser una lista pero está vacía\n",
        "    except (ValueError, SyntaxError):\n",
        "        return None  # Devuelve None si no se puede convertir a lista\n",
        "\n",
        "# Aplica la función a la columna 'categories'\n",
        "books['categories'] = books['categories'].apply(process_categories)"
      ]
    },
    {
      "cell_type": "markdown",
      "metadata": {
        "id": "09y4XUk7XzvX"
      },
      "source": [
        "Una vez procesadas las categorías, seguimos con eliminar las categorías nulas para poder generar un modelo que funcione solamente con aquellos libros a los que se les ha asignado una categoría."
      ]
    },
    {
      "cell_type": "code",
      "execution_count": null,
      "metadata": {
        "id": "xH5ndvX-XzvY"
      },
      "outputs": [],
      "source": [
        "# Eliminar nulos\n",
        "books.dropna(subset=['categories'], inplace=True)\n"
      ]
    },
    {
      "cell_type": "markdown",
      "metadata": {
        "id": "H2OxGKfrXzvY"
      },
      "source": [
        "Ahora \"books\" no cuenta con valores nulos."
      ]
    },
    {
      "cell_type": "code",
      "execution_count": null,
      "metadata": {
        "id": "9vLxOOB5XzvY"
      },
      "outputs": [],
      "source": [
        "books.head(10)"
      ]
    },
    {
      "cell_type": "markdown",
      "metadata": {
        "id": "3AkgGYd8XzvY"
      },
      "source": [
        "Para poder utilizar el filtrado basado en contenido, antes de terminar el preprocesamiento debemos convertir todos los valores de books['categories'] a str."
      ]
    },
    {
      "cell_type": "code",
      "execution_count": null,
      "metadata": {
        "id": "VArfRt-1XzvY"
      },
      "outputs": [],
      "source": [
        "# Convertir tipo de dato de object a str\n",
        "books['categories'] = books['categories'].astype(str)\n"
      ]
    },
    {
      "cell_type": "code",
      "source": [
        "books.head()"
      ],
      "metadata": {
        "id": "dnP69RnWe3ix"
      },
      "execution_count": null,
      "outputs": []
    },
    {
      "cell_type": "markdown",
      "metadata": {
        "id": "CkEl8w9UXzvY"
      },
      "source": [
        "### Filtrado basado en contenido ###"
      ]
    },
    {
      "cell_type": "markdown",
      "metadata": {
        "id": "DYo65Pa8XzvY"
      },
      "source": [
        "\n",
        "\n",
        "El filtrado basado en contenido permite personalizar las recomendaciones en función de los gustos y preferencias de los usuarios. Al centrarse en el género literario, se garantiza que las sugerencias estén directamente alineadas con los intereses individuales de los lectores.\n",
        "\n",
        "**Eficiencia en la Fase Inicial (MVP):**\n",
        "\n",
        "Dado que la fase inicial se enfoca en la implementación de un producto mínimo viable (MVP), el filtrado basado en contenido basado en género literario es eficiente en términos de recursos computacionales. La representación de los libros por género es una tarea computacionalmente liviana y permite una implementación rápida y eficiente. Contando con los datos de Amazon, podemos lograr recomendaciones a pesar del arranque en frío.\n",
        "\n",
        "**Ranking de Popularidad Incorporado:**\n",
        "\n",
        "El modelo de filtrado basado en contenido puede integrar de manera natural un ranking de popularidad para los libros. Al considerar la popularidad dentro de cada género, se garantiza que las recomendaciones no solo sean personalizadas, sino también respaldadas por la preferencia general de los lectores.\n",
        "\n",
        "\n",
        "**Mantenimiento de Escalabilidad para Futuras Expansiones:**\n",
        "\n",
        "El filtrado basado en contenido es inherentemente escalable. A medida que la librería crece y se diversifica, la adición de nuevos géneros literarios o tags se puede realizar de manera sencilla sin afectar significativamente el rendimiento del sistema.\n",
        "\n",
        "**Requisitos de Recursos Computacionales:**\n",
        "\n",
        "El enfoque basado en contenido es menos intensivo en recursos en comparación con otros métodos de recomendación, como el filtrado colaborativo, lo que cumple con la restricción de utilizar eficientemente los recursos computacionales, especialmente durante la fase inicial del proyecto.\n",
        "Es importante que para poder calcular la similitud de coseno entre todos los libros en nuestro equipo local, no podemos utilizar una muestra demasiado grande. Por eso la partimos a la casi la mitad."
      ]
    },
    {
      "cell_type": "code",
      "source": [
        "merged_data = pd.merge(rating, books, on='Title', how='inner')\n",
        "\n",
        "# Agrega impresiones para depuración\n",
        "print(\"Número total de calificaciones:\", len(rating))\n",
        "print(\"Número total de libros en books_sample:\", len(books))\n",
        "print(\"Número total de calificaciones después del filtrado:\", len(merged_data))"
      ],
      "metadata": {
        "id": "QpdfxNT_hBUk"
      },
      "execution_count": null,
      "outputs": []
    },
    {
      "cell_type": "markdown",
      "source": [
        "Este código en Python utiliza la biblioteca `pandas` para realizar una **fusión interna** de dos conjuntos de datos (`rating` y `books`) basándose en el título. Las siguientes líneas de código imprimen información sobre el tamaño de los conjuntos de datos antes y después de la fusión, lo cual es útil para la **depuración del código**.\n"
      ],
      "metadata": {
        "id": "qfWNQwqfNite"
      }
    },
    {
      "cell_type": "code",
      "source": [
        "merged_data.head()"
      ],
      "metadata": {
        "id": "e2gAhWtM4EJN"
      },
      "execution_count": null,
      "outputs": []
    },
    {
      "cell_type": "code",
      "source": [
        "ratings = merged_data[['Id','User_id','review/score','Title','review/text','authors','image']]"
      ],
      "metadata": {
        "id": "ErfnSRVa4LX1"
      },
      "execution_count": null,
      "outputs": []
    },
    {
      "cell_type": "markdown",
      "source": [
        "Este código en Python crea un nuevo DataFrame llamado 'ratings' al seleccionar columnas específicas del DataFrame fusionado 'merged_data'. Las columnas seleccionadas incluyen 'Id', 'User_id', 'review/score', 'Title' y 'review/text'. Esta operación permite filtrar y retener solo las columnas de interés para su posterior análisis.\n"
      ],
      "metadata": {
        "id": "NCYsOp8VNqAz"
      }
    },
    {
      "cell_type": "code",
      "source": [
        "ratings.rename(columns={'Id':'book_id','User_id':'user_id','review/score':'rating','Title':'title','review/text':'review'},inplace=True)"
      ],
      "metadata": {
        "id": "XR9TzzuL5IFk"
      },
      "execution_count": null,
      "outputs": []
    },
    {
      "cell_type": "markdown",
      "source": [
        "Este código en Python utiliza el método `rename` de pandas para cambiar los nombres de las columnas en el DataFrame 'ratings'. Las columnas 'Id', 'User_id', 'review/score', 'Title', y 'review/text' se renombran respectivamente a 'book_id', 'user_id', 'rating', 'title' y 'review'. El parámetro `inplace=True` indica que los cambios deben realizarse directamente en el DataFrame original 'ratings'.\n"
      ],
      "metadata": {
        "id": "90I6oRFwNy9c"
      }
    },
    {
      "cell_type": "code",
      "source": [
        "ratings.shape"
      ],
      "metadata": {
        "id": "V35dsDPK4ELM"
      },
      "execution_count": null,
      "outputs": []
    },
    {
      "cell_type": "markdown",
      "source": [
        "Tenemos demasiados datos, empezaremos filtrando"
      ],
      "metadata": {
        "id": "ysxJqtxO4uZV"
      }
    },
    {
      "cell_type": "code",
      "source": [
        "x = ratings.groupby('user_id').count()['rating'] > 75\n",
        "\n",
        "considerable_users = x[x].index\n",
        "\n",
        "considerable_users"
      ],
      "metadata": {
        "id": "OFGukDAT4ENX"
      },
      "execution_count": null,
      "outputs": []
    },
    {
      "cell_type": "markdown",
      "source": [
        "Este código en Python realiza las siguientes operaciones:\n",
        "\n",
        "1. **Agrupación y Conteo:** Agrupa el DataFrame 'ratings' por la columna 'user_id' y cuenta el número de elementos en cada grupo ('rating'). El resultado se almacena en la Serie booleana 'x', indicando si el usuario ha realizado más de 75 valoraciones.\n",
        "\n",
        "2. **Filtrado de Usuarios Considerados:** Filtra los usuarios cuyo número de valoraciones es mayor que 75 y almacena sus 'user_id' en la variable 'considerable_users'.\n",
        "\n",
        "3. **Impresión de Usuarios Considerados:** Imprime la lista de 'user_id' de los usuarios considerados en base al filtro anterior.\n"
      ],
      "metadata": {
        "id": "AwdaNj5JN90E"
      }
    },
    {
      "cell_type": "code",
      "source": [
        "filtered_rating = ratings[ratings['user_id'].isin(considerable_users)]"
      ],
      "metadata": {
        "id": "zaK1mRwA4EPk"
      },
      "execution_count": null,
      "outputs": []
    },
    {
      "cell_type": "markdown",
      "source": [
        "Este código en Python crea un nuevo DataFrame llamado 'filtered_rating' al filtrar las valoraciones en el DataFrame original 'ratings'. Se seleccionan solo aquellas valoraciones realizadas por usuarios que fueron identificados como considerables previamente (almacenados en la variable 'considerable_users') mediante la función `isin`. Esto permite trabajar únicamente con las valoraciones de los usuarios que han realizado más de 75 valoraciones.\n"
      ],
      "metadata": {
        "id": "nB9sPdz8OWeO"
      }
    },
    {
      "cell_type": "code",
      "source": [
        "filtered_rating"
      ],
      "metadata": {
        "id": "BxUjcugJ4ERx"
      },
      "execution_count": null,
      "outputs": []
    },
    {
      "cell_type": "code",
      "source": [
        "y = filtered_rating.groupby('title').count()['rating']>=25\n",
        "famous_books = y[y].index"
      ],
      "metadata": {
        "id": "SQsWRzsJ4ET6"
      },
      "execution_count": null,
      "outputs": []
    },
    {
      "cell_type": "markdown",
      "source": [
        "Este código en Python realiza las siguientes operaciones:\n",
        "\n",
        "1. **Agrupación y Conteo de Valoraciones por Libro:** Agrupa el DataFrame 'filtered_rating' por la columna 'title' y cuenta el número de valoraciones ('rating') para cada libro. El resultado se almacena en la Serie booleana 'y', indicando si un libro tiene al menos 25 valoraciones.\n",
        "\n",
        "2. **Filtrado de Libros Famosos:** Filtra los libros que tienen al menos 25 valoraciones y almacena los títulos de estos libros en la variable 'famous_books'. Esto proporciona una lista de libros que son considerados \"famosos\" en base al criterio de tener un número significativo de valoraciones.\n"
      ],
      "metadata": {
        "id": "52yY7sRrOlfd"
      }
    },
    {
      "cell_type": "code",
      "source": [
        "final_ratings = filtered_rating[filtered_rating['title'].isin(famous_books)]"
      ],
      "metadata": {
        "id": "dnHtDs4g4EWA"
      },
      "execution_count": null,
      "outputs": []
    },
    {
      "cell_type": "markdown",
      "source": [
        "Este código en Python crea un nuevo DataFrame llamado 'final_ratings' al filtrar las valoraciones en el DataFrame 'filtered_rating'. Se seleccionan solo aquellas valoraciones que corresponden a libros considerados \"famosos\" según el criterio de tener al menos 25 valoraciones, y cuyos títulos están almacenados en la variable 'famous_books'. Esto ayuda a reducir el conjunto de datos a las valoraciones asociadas con libros que cumplen con el criterio de ser considerados \"famosos\".\n"
      ],
      "metadata": {
        "id": "Wys14IQCOqhr"
      }
    },
    {
      "cell_type": "code",
      "source": [
        "final_ratings"
      ],
      "metadata": {
        "id": "m4CCyPKA4EYU"
      },
      "execution_count": null,
      "outputs": []
    },
    {
      "cell_type": "code",
      "source": [
        "final_ratings.to_csv('final_Dataset.csv',index=False)"
      ],
      "metadata": {
        "id": "cNwgiAgH4Eab"
      },
      "execution_count": null,
      "outputs": []
    },
    {
      "cell_type": "code",
      "source": [
        "import pandas as pd\n",
        "import numpy as np"
      ],
      "metadata": {
        "id": "a1v1cdxg5k-f"
      },
      "execution_count": null,
      "outputs": []
    },
    {
      "cell_type": "code",
      "source": [
        "df = pd.read_csv('final_Dataset.csv')"
      ],
      "metadata": {
        "id": "sdifrWf95lAd"
      },
      "execution_count": null,
      "outputs": []
    },
    {
      "cell_type": "markdown",
      "source": [
        "Este código en Python realiza las siguientes operaciones:\n",
        "\n",
        "1. **Guardado en un Archivo CSV:** La función `to_csv` de pandas se utiliza para guardar el DataFrame 'final_ratings' en un archivo CSV llamado 'final_Dataset.csv'. El parámetro `index=False` indica que no se debe incluir el índice del DataFrame en el archivo CSV.\n",
        "\n",
        "2. **Lectura desde un Archivo CSV:** La función `read_csv` de pandas se utiliza para leer el archivo CSV recién creado ('final_Dataset.csv') y cargar los datos en un nuevo DataFrame llamado 'df'. Esto permite trabajar con los datos almacenados en el archivo CSV en futuras operaciones.\n"
      ],
      "metadata": {
        "id": "BbvxLFxnOyzl"
      }
    },
    {
      "cell_type": "code",
      "source": [
        "df.info()"
      ],
      "metadata": {
        "id": "T8MRDsf15lCm"
      },
      "execution_count": null,
      "outputs": []
    },
    {
      "cell_type": "code",
      "source": [
        "df['review'] = df['review'].str.replace(',', '')\n",
        "df['review'] = df['review'].str.replace('\\d+', '', regex=True)"
      ],
      "metadata": {
        "id": "sjdA1okG5lEw"
      },
      "execution_count": null,
      "outputs": []
    },
    {
      "cell_type": "markdown",
      "source": [
        "Este código en Python realiza las siguientes operaciones en el DataFrame 'df':\n",
        "\n",
        "1. **Eliminación de Comas:** En la columna 'review', utiliza el método `str.replace` para eliminar las comas. Esto es útil si las comas no son necesarias en el contexto de las revisiones y se desean eliminar.\n",
        "\n",
        "2. **Eliminación de Dígitos:** En la misma columna 'review', utiliza nuevamente `str.replace` con una expresión regular (`'\\d+'`) para eliminar todos los dígitos. Esto puede ser útil si se desea eliminar números de las revisiones, por ejemplo, si no son relevantes para el análisis que se va a realizar.\n"
      ],
      "metadata": {
        "id": "kJbounv1PMDe"
      }
    },
    {
      "cell_type": "code",
      "source": [
        "df.head()"
      ],
      "metadata": {
        "id": "SlOgfI_T5lHC"
      },
      "execution_count": null,
      "outputs": []
    },
    {
      "cell_type": "code",
      "source": [
        "!pip install scikit-surprise"
      ],
      "metadata": {
        "id": "mspIxxG986Ac"
      },
      "execution_count": null,
      "outputs": []
    },
    {
      "cell_type": "code",
      "source": [
        "from surprise import Dataset\n",
        "from surprise import Reader\n",
        "from surprise import KNNWithMeans\n",
        "from surprise import KNNBaseline\n",
        "from surprise import KNNBasic\n",
        "from surprise import accuracy\n",
        "from surprise.model_selection import train_test_split\n",
        "from sklearn.feature_extraction.text import TfidfVectorizer\n",
        "from sklearn.metrics.pairwise import cosine_similarity"
      ],
      "metadata": {
        "id": "gp5vOmUH6I1o"
      },
      "execution_count": null,
      "outputs": []
    },
    {
      "cell_type": "code",
      "source": [
        "reader = Reader(rating_scale=(1, 5))\n",
        "data = Dataset.load_from_df(df[['user_id', 'book_id', 'rating']], reader)"
      ],
      "metadata": {
        "id": "aLf7BRrM6I3g"
      },
      "execution_count": null,
      "outputs": []
    },
    {
      "cell_type": "markdown",
      "source": [
        "Este código utiliza la biblioteca `surprise`, que es una herramienta para construir y analizar sistemas de recomendación.\n",
        "\n",
        "1. **Creador de Lectores (`Reader`):** Se crea un objeto `Reader` con la escala de calificación especificada de 1 a 5. El `Reader` ayuda a cargar datos en el formato requerido por `surprise`.\n",
        "\n",
        "2. **Carga de Datos (`Dataset.load_from_df`):** Se carga un conjunto de datos (`data`) desde el DataFrame 'df' utilizando `Dataset.load_from_df` de `surprise`. Se seleccionan las columnas 'user_id', 'book_id', y 'rating' del DataFrame para construir el conjunto de datos necesario para el análisis y construcción de modelos de recomendación.\n"
      ],
      "metadata": {
        "id": "ctw0naloPS5l"
      }
    },
    {
      "cell_type": "code",
      "source": [
        "from numpy.random.mtrand import random\n",
        "trainset, testset = train_test_split(data, test_size=0.3, random_state=42)"
      ],
      "metadata": {
        "id": "ScQhq01U6I5e"
      },
      "execution_count": null,
      "outputs": []
    },
    {
      "cell_type": "code",
      "source": [
        "vectorizer = TfidfVectorizer()\n",
        "tfidf_matrix = vectorizer.fit_transform(df['review'])"
      ],
      "metadata": {
        "id": "snRwQ59f6I7u"
      },
      "execution_count": null,
      "outputs": []
    },
    {
      "cell_type": "markdown",
      "source": [
        "Este código utiliza la biblioteca `scikit-learn` y la clase `TfidfVectorizer` para realizar la transformación TF-IDF (Term Frequency-Inverse Document Frequency) en las revisiones de un DataFrame.\n",
        "\n",
        "1. **Creador de Vectorizador (`TfidfVectorizer`):** Se crea un objeto `TfidfVectorizer`, que convierte una colección de documentos de texto en una matriz de características TF-IDF. TF-IDF es una medida estadística que evalúa la importancia de una palabra en un documento en relación con su frecuencia en el conjunto de documentos.\n",
        "\n",
        "2. **Transformación de Revisiones a Matriz TF-IDF:** Utilizando el método `fit_transform`, se aplica el vectorizador a la columna 'review' del DataFrame 'df'. El resultado, `tfidf_matrix`, es una matriz donde cada fila representa una revisión y cada columna representa una palabra en el conjunto total de revisiones, ponderada por su importancia TF-IDF.\n"
      ],
      "metadata": {
        "id": "RpcJmSqoPbxF"
      }
    },
    {
      "cell_type": "code",
      "source": [
        "import numpy as np\n",
        "batch_size = 250\n",
        "num_books = tfidf_matrix.shape[0]\n",
        "\n",
        "# Inicializar la matriz de similitud de coseno\n",
        "cosine_sim = np.zeros((num_books, num_books))\n",
        "\n",
        "# Calcular la similitud de coseno por lotes\n",
        "for i in range(0, num_books, batch_size):\n",
        "    end = min(i + batch_size, num_books)\n",
        "    cosine_sim[i:end, i:end] = cosine_similarity(tfidf_matrix[i:end, :])"
      ],
      "metadata": {
        "id": "7Ln-v2iC6JAR"
      },
      "execution_count": null,
      "outputs": []
    },
    {
      "cell_type": "markdown",
      "source": [
        "Este código utiliza lotes (o batches) para calcular la similitud de coseno entre los libros representados en la matriz TF-IDF. Aquí está la explicación:\n",
        "\n",
        "### Tamaño del Lote (`batch_size`):\n",
        "Se establece el tamaño del lote en 250. Esto significa que el cálculo se realiza en bloques de 250 libros a la vez.\n",
        "\n",
        "### Inicialización de Variables:\n",
        "Se inicializa la matriz de similitud de coseno (`cosine_sim`) como una matriz de ceros con dimensiones `(num_books, num_books)`.\n",
        "\n",
        "### Cálculo de Similitud de Coseno por Lotes:\n",
        "Se utiliza un bucle `for` para iterar a través de la matriz de similitud de coseno por lotes. En cada iteración, se calcula la similitud de coseno para un bloque específico de libros (definido por el tamaño del lote) utilizando la función `cosine_similarity` de scikit-learn. Los resultados se almacenan en la matriz `cosine_sim`.\n"
      ],
      "metadata": {
        "id": "frz2_KqxPzuD"
      }
    },
    {
      "cell_type": "markdown",
      "source": [
        "# **KNN (Vecinos más Cercanos)**\n",
        "\n",
        "El algoritmo KNN es un método de recomendación basado en la proximidad entre usuarios o ítems. Funciona identificando vecinos más cercanos en función de la similitud de sus historiales de interacción. Para recomendaciones de ítems, se seleccionan los ítems más similares a los que le gustaron al usuario; para recomendaciones de usuarios, se identifican usuarios con historiales de interacción similares. KNN es simple pero efectivo, ya que confía en la similitud entre elementos para hacer predicciones personalizadas."
      ],
      "metadata": {
        "id": "SdrAEqUg6u_E"
      }
    },
    {
      "cell_type": "code",
      "source": [
        "similarity_options = {'name': 'cosine', 'user_based': True, 'user_item_similarities': cosine_sim}\n",
        "baseline_options = {'method': 'als_sgd', 'learning_rate': 0.003}"
      ],
      "metadata": {
        "id": "6TWFVhQ36tSt"
      },
      "execution_count": null,
      "outputs": []
    },
    {
      "cell_type": "markdown",
      "source": [
        "Este código define dos diccionarios, `similarity_options` y `baseline_options`, que se utilizan para configurar opciones en el contexto de sistemas de recomendación.\n",
        "\n",
        "Opciones de Similitud (`similarity_options`):\n",
        "- **`name`:** Se especifica el método de similitud como 'cosine', lo que indica que se utilizará la similitud de coseno. Esta medida de similitud cuantifica la relación angular entre dos vectores y es comúnmente utilizada en sistemas de recomendación.\n",
        "- **`user_based`:** Se establece en `True`, indicando que se está construyendo un modelo basado en usuarios. En sistemas de recomendación, esto significa que las recomendaciones se realizarán en función de la similitud entre usuarios.\n",
        "- **`user_item_similarities`:** Se establece en la matriz de similitud de coseno previamente calculada (`cosine_sim`). Esta matriz contiene las similitudes de coseno entre los usuarios (filas) y los elementos (libros en este caso).\n",
        "\n",
        "Opciones del Modelo Baseline (`baseline_options`):\n",
        "- **`method`:** Se especifica el método del modelo baseline como 'als_sgd'. Esto podría referirse a Alternating Least Squares con Stochastic Gradient Descent, un enfoque comúnmente utilizado en sistemas de recomendación para factorización de matrices.\n",
        "- **`learning_rate`:** Se establece en 0.003, que representa la tasa de aprendizaje utilizada en el proceso de optimización. Ajustar la tasa de aprendizaje puede afectar la convergencia y el rendimiento del modelo.\n"
      ],
      "metadata": {
        "id": "Zux5hdDbQHwO"
      }
    },
    {
      "cell_type": "code",
      "source": [
        "model1 = KNNWithMeans(k=10, min_k=7, sim_options=similarity_options,)\n",
        "model1.fit(trainset)"
      ],
      "metadata": {
        "id": "RA71r5zw6tU-"
      },
      "execution_count": null,
      "outputs": []
    },
    {
      "cell_type": "markdown",
      "source": [
        "Este código utiliza la biblioteca `surprise` para crear y entrenar un modelo de filtrado colaborativo basado en el algoritmo K-Nearest Neighbors (KNN) con promedios ponderados.\n",
        "\n",
        "Creación del Modelo (`KNNWithMeans`):\n",
        "- **`KNNWithMeans`:** Es un modelo de filtrado colaborativo basado en KNN que tiene en cuenta la media de las calificaciones. Esto significa que, para hacer recomendaciones, considerará las calificaciones medias de los usuarios y elementos.\n",
        "\n",
        "Parámetros del Modelo:\n",
        "- **`k=10`:** Especifica que se utilizarán los 10 vecinos más cercanos para calcular la similitud.\n",
        "- **`min_k=7`:** Establece un requisito mínimo de 7 vecinos para realizar una predicción.\n",
        "- **`sim_options=similarity_options`:** Utiliza las opciones de similitud definidas anteriormente en `similarity_options`.\n",
        "\n",
        "Entrenamiento del Modelo (`model1.fit(trainset)`):\n",
        "- **`trainset`:** Se asume que es un conjunto de entrenamiento preparado en el formato específico de `surprise`.\n",
        "- **`fit()`:** Método que entrena el modelo utilizando el conjunto de entrenamiento proporcionado (`trainset`).\n",
        "\n",
        "Este modelo entrenado (`model1`) puede luego utilizarse para realizar predicciones y generar recomendaciones basadas en similitud entre usuarios o elementos.\n"
      ],
      "metadata": {
        "id": "obEJjIk0QsDS"
      }
    },
    {
      "cell_type": "code",
      "source": [
        "predictions1 = model1.test(testset)"
      ],
      "metadata": {
        "id": "jWmAQjZf6tXM"
      },
      "execution_count": null,
      "outputs": []
    },
    {
      "cell_type": "code",
      "source": [
        "predictions1[:5]"
      ],
      "metadata": {
        "id": "of8B1SWf6tZD"
      },
      "execution_count": null,
      "outputs": []
    },
    {
      "cell_type": "code",
      "source": [
        "rmse = accuracy.rmse(predictions1)\n",
        "mse = accuracy.mse(predictions1)\n",
        "mae = accuracy.mae(predictions1)"
      ],
      "metadata": {
        "id": "X8vgQ0r96JCY"
      },
      "execution_count": null,
      "outputs": []
    },
    {
      "cell_type": "markdown",
      "source": [
        "Este código utiliza la función `accuracy` de la biblioteca `surprise` para calcular diferentes métricas de evaluación del modelo de recomendación construido y evaluado previamente.\n",
        "\n",
        "Métricas de Evaluación:\n",
        "- **RMSE (Root Mean Squared Error):** Mide la raíz cuadrada de la media de los errores cuadrados entre las predicciones y los valores reales. En este caso, el valor obtenido es 0.7419.\n",
        "- **MSE (Mean Squared Error):** Es la media de los errores cuadrados entre las predicciones y los valores reales. En este caso, el valor obtenido es 0.5504.\n",
        "- **MAE (Mean Absolute Error):** Mide la media de las diferencias absolutas entre las predicciones y los valores reales. En este caso, el valor obtenido es 0.5099.\n",
        "\n",
        "Interpretación de los Resultados:\n",
        "- **RMSE:** Cuanto más cercano a cero, mejor. Indica la raíz cuadrada promedio de los errores.\n",
        "- **MSE:** Cuanto más cercano a cero, mejor. Es el promedio de los errores cuadrados.\n",
        "- **MAE:** Cuanto más cercano a cero, mejor. Representa la media de las diferencias absolutas.\n",
        "\n",
        "En este contexto, valores más bajos para estas métricas indican un mejor rendimiento del modelo, ya que implican una menor diferencia entre las predicciones y los valores reales.\n"
      ],
      "metadata": {
        "id": "vhg2G6ECQ-ky"
      }
    },
    {
      "cell_type": "markdown",
      "source": [
        "#**KNN Baseline (Vecinos más Cercanos con Línea de Base):**\n",
        "\n",
        "El algoritmo KNN Baseline combina el enfoque de Vecinos más Cercanos (KNN) con la Línea de Base para recomendaciones. Utiliza la información de los vecinos más cercanos en función de la similitud entre usuarios o ítems, ajustando las predicciones basándose en las tendencias globales de calificación (línea de base). Esto permite tener en cuenta las preferencias individuales mientras considera el comportamiento general de los usuarios o ítems en el conjunto de datos."
      ],
      "metadata": {
        "id": "7AXzMnJ57JW_"
      }
    },
    {
      "cell_type": "code",
      "source": [
        "similarity_options = {'name': 'cosine', 'user_based': True, 'user_item_similarities': cosine_sim}\n",
        "baseline_options = {'method': 'sgd', 'learning_rate': 0.001}"
      ],
      "metadata": {
        "id": "70Q2g75O6JGx"
      },
      "execution_count": null,
      "outputs": []
    },
    {
      "cell_type": "code",
      "source": [
        "model2 = KNNBaseline(k=10, min_k=4, sim_options=similarity_options, bsl_options=baseline_options)\n",
        "model2.fit(trainset)"
      ],
      "metadata": {
        "id": "XW3rSQfG5lI3"
      },
      "execution_count": null,
      "outputs": []
    },
    {
      "cell_type": "markdown",
      "source": [
        "Este código utiliza la biblioteca `surprise` para crear y entrenar otro modelo de filtrado colaborativo basado en el algoritmo K-Nearest Neighbors (KNN), pero en este caso, incorpora el modelo baseline.\n",
        "\n",
        "Creación del Modelo (`KNNBaseline`):\n",
        "- **`KNNBaseline`:** Es un modelo de filtrado colaborativo basado en KNN que tiene en cuenta la media de las calificaciones y un modelo baseline. Combina la similitud de coseno con un modelo de baseline para realizar predicciones.\n",
        "\n",
        "Parámetros del Modelo:\n",
        "- **`k=10`:** Especifica que se utilizarán los 10 vecinos más cercanos para calcular la similitud.\n",
        "- **`min_k=4`:** Establece un requisito mínimo de 4 vecinos para realizar una predicción.\n",
        "- **`sim_options=similarity_options`:** Utiliza las opciones de similitud definidas anteriormente en `similarity_options`.\n",
        "- **`bsl_options=baseline_options`:** Utiliza las opciones del modelo baseline definidas anteriormente en `baseline_options`.\n",
        "\n",
        "Entrenamiento del Modelo (`model2.fit(trainset)`):\n",
        "- **`trainset`:** Se asume que es un conjunto de entrenamiento preparado en el formato específico de `surprise`.\n",
        "- **`fit()`:** Método que entrena el modelo utilizando el conjunto de entrenamiento proporcionado (`trainset`).\n",
        "\n",
        "Este nuevo modelo entrenado (`model2`) incorpora la información del modelo baseline, lo que podría mejorar las predicciones en comparación con un modelo KNN simple.\n"
      ],
      "metadata": {
        "id": "QCA1HrHfRKL_"
      }
    },
    {
      "cell_type": "code",
      "source": [
        "predictions2 = model2.test(testset)"
      ],
      "metadata": {
        "id": "CSAlnbQq7Ox8"
      },
      "execution_count": null,
      "outputs": []
    },
    {
      "cell_type": "code",
      "source": [
        "predictions2[:5]"
      ],
      "metadata": {
        "id": "0EKud5zu7Oz4"
      },
      "execution_count": null,
      "outputs": []
    },
    {
      "cell_type": "code",
      "source": [
        "rmse = accuracy.rmse(predictions2)\n",
        "mse = accuracy.mse(predictions2)\n",
        "mae = accuracy.mae(predictions2)"
      ],
      "metadata": {
        "id": "aQphHpkD7O1-"
      },
      "execution_count": null,
      "outputs": []
    },
    {
      "cell_type": "markdown",
      "source": [
        "Este código utiliza la función `accuracy` de la biblioteca `surprise` para calcular diferentes métricas de evaluación del segundo modelo de recomendación construido y evaluado previamente.\n",
        "\n",
        "Métricas de Evaluación:\n",
        "- **RMSE (Root Mean Squared Error):** Mide la raíz cuadrada de la media de los errores cuadrados entre las predicciones y los valores reales. En este caso, el valor obtenido es 0.7544.\n",
        "- **MSE (Mean Squared Error):** Es la media de los errores cuadrados entre las predicciones y los valores reales. En este caso, el valor obtenido es 0.5691.\n",
        "- **MAE (Mean Absolute Error):** Mide la media de las diferencias absolutas entre las predicciones y los valores reales. En este caso, el valor obtenido es 0.5345.\n",
        "\n",
        "Interpretación de los Resultados:\n",
        "- **RMSE:** Cuanto más cercano a cero, mejor. Indica la raíz cuadrada promedio de los errores.\n",
        "- **MSE:** Cuanto más cercano a cero, mejor. Es el promedio de los errores cuadrados.\n",
        "- **MAE:** Cuanto más cercano a cero, mejor. Representa la media de las diferencias absolutas.\n",
        "\n",
        "En comparación con los resultados del primer modelo, estos resultados indican que el segundo modelo tiene un rendimiento razonable, con valores de métricas similares o ligeramente diferentes. Es importante considerar el contexto y los requisitos específicos del problema para determinar qué modelo es más adecuado.\n"
      ],
      "metadata": {
        "id": "KIQo-CluRTpa"
      }
    },
    {
      "cell_type": "markdown",
      "source": [
        "# **SVD**"
      ],
      "metadata": {
        "id": "xtV39N2aBZMT"
      }
    },
    {
      "cell_type": "markdown",
      "source": [
        "Funky SVD Recommendation Algorithm\n",
        "\n",
        "El algoritmo Funky Singular Value Decomposition (Funky SVD) puede ser adaptado para sistemas de recomendación por contenido, donde se buscan prever las preferencias de los usuarios basándose en las características intrínsecas de los ítems\n",
        "\n",
        "Al utilizar Funky SVD en sistemas de recomendación por contenido, se busca mejorar la precisión y la relevancia de las sugerencias al considerar de manera efectiva las características intrínsecas de los ítems. Este enfoque es útil en entornos donde la información sobre el contenido es esencial para entender las preferencias de los usuarios.\n",
        "\n",
        "\n",
        "\n"
      ],
      "metadata": {
        "id": "RYhUJMK7fCpL"
      }
    },
    {
      "cell_type": "code",
      "source": [
        "from surprise import SVDpp"
      ],
      "metadata": {
        "id": "6alvqObcBa6-"
      },
      "execution_count": null,
      "outputs": []
    },
    {
      "cell_type": "code",
      "source": [
        "# Crear el modelo FunkSVD (SVDpp)\n",
        "algo_funk_svd = SVDpp(n_factors=100, lr_all=0.005, reg_all=0.02, n_epochs=20)"
      ],
      "metadata": {
        "id": "bgr-uz3SBbqx"
      },
      "execution_count": null,
      "outputs": []
    },
    {
      "cell_type": "markdown",
      "source": [
        "Este código utiliza la biblioteca `surprise` para crear un modelo Funk Singular Value Decomposition (FunkSVD), específicamente utilizando la clase `SVDpp`.\n",
        "\n",
        "Creación del Modelo (`SVDpp`):\n",
        "- **`SVDpp`:** Es una implementación del algoritmo de descomposición de valores singulares (SVD) mejorado con factores de persistencia. Este modelo es una extensión del modelo SVD clásico.\n",
        "\n",
        "Parámetros del Modelo:\n",
        "- **`n_factors=100`:** Especifica la cantidad de factores latentes en el modelo. Cuanto mayor sea este valor, más complejo será el modelo, pero también puede aumentar la capacidad para capturar patrones en los datos.\n",
        "- **`lr_all=0.005`:** Establece la tasa de aprendizaje para el proceso de optimización. Ajustar la tasa de aprendizaje puede afectar la convergencia y el rendimiento del modelo.\n",
        "- **`reg_all=0.02`:** Controla la regularización de todos los términos en el modelo. La regularización ayuda a prevenir el sobreajuste y mejora la generalización del modelo.\n",
        "- **`n_epochs=20`:** Especifica la cantidad de épocas o iteraciones del proceso de entrenamiento. Un mayor número de épocas permite que el modelo ajuste mejor los datos, pero también puede aumentar el riesgo de sobreajuste.\n",
        "\n",
        "Este modelo `algo_funk_svd` ahora está listo para ser entrenado utilizando un conjunto de entrenamiento específico.\n"
      ],
      "metadata": {
        "id": "s2h0ooFARamw"
      }
    },
    {
      "cell_type": "code",
      "source": [
        "# Ajustar el modelo al conjunto de entrenamiento\n",
        "algo_funk_svd.fit(trainset)"
      ],
      "metadata": {
        "id": "nCpy6h2uBbtA"
      },
      "execution_count": null,
      "outputs": []
    },
    {
      "cell_type": "code",
      "source": [
        "# Realizar predicciones en el conjunto de prueba\n",
        "predictions3 = algo_funk_svd.test(testset)"
      ],
      "metadata": {
        "id": "-B9LU5nVBbu7"
      },
      "execution_count": null,
      "outputs": []
    },
    {
      "cell_type": "code",
      "source": [
        "predictions3[:10]"
      ],
      "metadata": {
        "id": "Lujq8mLTCpYQ"
      },
      "execution_count": null,
      "outputs": []
    },
    {
      "cell_type": "code",
      "source": [
        "rmse = accuracy.rmse(predictions3)\n",
        "mse = accuracy.mse(predictions3)\n",
        "mae = accuracy.mae(predictions3)"
      ],
      "metadata": {
        "id": "CeqHATVoKtTH"
      },
      "execution_count": null,
      "outputs": []
    },
    {
      "cell_type": "markdown",
      "source": [
        "Este código utiliza la función `accuracy` de la biblioteca `surprise` para calcular diferentes métricas de evaluación del tercer modelo de recomendación construido y evaluado previamente, que es el modelo Funk Singular Value Decomposition (FunkSVD).\n",
        "\n",
        "Métricas de Evaluación:\n",
        "- **RMSE (Root Mean Squared Error):** Mide la raíz cuadrada de la media de los errores cuadrados entre las predicciones y los valores reales. En este caso, el valor obtenido es 0.7069.\n",
        "- **MSE (Mean Squared Error):** Es la media de los errores cuadrados entre las predicciones y los valores reales. En este caso, el valor obtenido es 0.4998.\n",
        "- **MAE (Mean Absolute Error):** Mide la media de las diferencias absolutas entre las predicciones y los valores reales. En este caso, el valor obtenido es 0.4998.\n",
        "\n",
        "Interpretación de los Resultados:\n",
        "- **RMSE:** Cuanto más cercano a cero, mejor. Indica la raíz cuadrada promedio de los errores.\n",
        "- **MSE:** Cuanto más cercano a cero, mejor. Es el promedio de los errores cuadrados.\n",
        "- **MAE:** Cuanto más cercano a cero, mejor. Representa la media de las diferencias absolutas.\n",
        "\n",
        "**En comparación con los resultados de los modelos anteriores, estos resultados sugieren que el modelo FunkSVD tiene un rendimiento razonablemente bueno, con valores bajos de las métricas de evaluación. Estos resultados pueden indicar que el modelo es capaz de hacer predicciones precisas sobre las calificaciones de los usuarios en el conjunto de datos de prueba.**"
      ],
      "metadata": {
        "id": "yPnSN776Rho2"
      }
    },
    {
      "cell_type": "markdown",
      "source": [
        "# Obtener Recomendacion de libros\n",
        "\n"
      ],
      "metadata": {
        "id": "zzQqsvnF7WUW"
      }
    },
    {
      "cell_type": "markdown",
      "source": [
        "## Filtrado Colaborativo"
      ],
      "metadata": {
        "id": "d-hqxKU8pnTv"
      }
    },
    {
      "cell_type": "code",
      "source": [
        "from IPython.display import display, HTML\n",
        "\n",
        "def get_recommendations_with_images(user_id, n=10):\n",
        "    # Encontrar los n usuarios más similares basados en sus revisiones textuales\n",
        "    user_index = df[df['user_id'] == user_id].index[0]\n",
        "    sim_scores = list(enumerate(cosine_sim[user_index]))\n",
        "    sim_scores = sorted(sim_scores, key=lambda x: x[1], reverse=True)\n",
        "    sim_scores = sim_scores[1:n+1]\n",
        "    sim_users = [df['user_id'][i[0]] for i in sim_scores]\n",
        "\n",
        "    # Encontrar los ítems que los usuarios similares han calificado positivamente\n",
        "    top_items = {}\n",
        "    recommended_titles = set()  # Conjunto para rastrear títulos ya recomendados\n",
        "\n",
        "    for user in sim_users:\n",
        "        items = df[df['user_id'] == user]['book_id']\n",
        "        for item in items:\n",
        "            title = df[df['book_id'] == item].iloc[0]['title']\n",
        "            if title not in recommended_titles:\n",
        "                if item not in top_items:\n",
        "                    top_items[item] = 1\n",
        "                else:\n",
        "                    top_items[item] += 1\n",
        "                recommended_titles.add(title)  # Agregar el título al conjunto de títulos recomendados\n",
        "\n",
        "    # Ordenar los ítems por la cantidad de veces que han sido recomendados\n",
        "    top_items = sorted(top_items.items(), key=lambda x: x[1], reverse=True)\n",
        "\n",
        "    # Devolver los primeros n ítems como recomendaciones\n",
        "    rec_books = []\n",
        "    for i in top_items[:n]:\n",
        "        book_id = i[0]\n",
        "        book_name = df[df['book_id'] == book_id].iloc[0]['title']\n",
        "        book_image = df[df['book_id'] == book_id].iloc[0]['image']\n",
        "        rec_books.append({'title': book_name, 'image': book_image})\n",
        "\n",
        "    return rec_books"
      ],
      "metadata": {
        "id": "I-KnsPPdc85Z"
      },
      "execution_count": null,
      "outputs": []
    },
    {
      "cell_type": "markdown",
      "source": [
        " Entrada de la Función:\n",
        "\n",
        "- `user_id`: Identificador del usuario para el cual se generan las recomendaciones.\n",
        "- `n`: Número de libros a recomendar (por defecto es 10).\n",
        "\n",
        " Cálculo de Usuarios Similares:\n",
        "\n",
        "1. Se encuentra el índice del usuario en el DataFrame utilizando su `user_id`.\n",
        "2. Se calcula la similitud coseno entre el usuario dado y todos los demás usuarios.\n",
        "3. Los resultados se ordenan en orden descendente de similitud y se seleccionan los primeros `n` usuarios más similares.\n",
        "\n",
        "Búsqueda de Libros Positivamente Calificados por Usuarios Similares:\n",
        "\n",
        "1. Para cada usuario similar, se obtienen los libros que ha calificado positivamente.\n",
        "2. Se evitan títulos duplicados utilizando un conjunto (`recommended_titles`).\n",
        "\n",
        "Conteo de Recomendaciones por Libro:\n",
        "\n",
        "- Se lleva un conteo de cuántas veces cada libro ha sido recomendado.\n",
        "\n",
        "Ordenamiento y Devolución de las Recomendaciones:\n",
        "\n",
        "1. Los libros se ordenan en función de la cantidad de recomendaciones recibidas.\n",
        "2. Se devuelven las primeras `n` recomendaciones con sus títulos e imágenes correspondientes.\n"
      ],
      "metadata": {
        "id": "b4KlRgypebAj"
      }
    },
    {
      "cell_type": "code",
      "source": [
        "df.head()"
      ],
      "metadata": {
        "id": "auhvb7NGWXNa"
      },
      "execution_count": null,
      "outputs": []
    },
    {
      "cell_type": "code",
      "source": [
        "# Ejemplo de uso\n",
        "user_id = 'A3NQU1649SH0Q4'\n",
        "recommendations = get_recommendations_with_images(user_id)\n",
        "print(f\"Recomendaciones para el usuario '{user_id}':\")\n",
        "for book in recommendations:\n",
        "    display(HTML(f\"<h4>{book['title']}</h4><img src='{book['image']}' alt='{book['title']}' style='max-width:550px;'>\"))"
      ],
      "metadata": {
        "id": "_fV65l_h7ZpH"
      },
      "execution_count": null,
      "outputs": []
    },
    {
      "cell_type": "markdown",
      "source": [
        "## Filtrado basado en contenido"
      ],
      "metadata": {
        "id": "7iZf_oa9prKK"
      }
    },
    {
      "cell_type": "markdown",
      "metadata": {
        "id": "_OtZw4_5XzvZ"
      },
      "source": [
        "Finalmente podemos obtener un modelo que genera recomendaciones a partir del género de los libros y los ordena según el rating otorgado por los usuarios."
      ]
    },
    {
      "cell_type": "code",
      "execution_count": null,
      "metadata": {
        "id": "n9i1Rfk7XzvZ"
      },
      "outputs": [],
      "source": [
        "from IPython.display import display, HTML\n",
        "\n",
        "def get_recommendations_with_images(title, cosine_sim=cosine_sim, books_df=books):\n",
        "    # Restablece el índice para asegurarte de que sea consecutivo\n",
        "    books_df = books_df.reset_index(drop=True)\n",
        "\n",
        "    # Busca el índice del libro por título\n",
        "    matching_titles = books_df[books_df['Title'] == title]\n",
        "\n",
        "    if matching_titles.empty:\n",
        "        print(f\"No se encontró el libro con el título '{title}'.\")\n",
        "        return None\n",
        "\n",
        "    idx = matching_titles.index[0]\n",
        "\n",
        "    # Verifica si el índice está dentro de los límites\n",
        "    if idx >= len(cosine_sim):\n",
        "        print(f\"Índice {idx} está fuera de los límites del DataFrame.\")\n",
        "        return None\n",
        "\n",
        "    # Resto del código de tu función...\n",
        "    sim_scores = list(enumerate(cosine_sim[idx]))\n",
        "    sim_scores = sorted(sim_scores, key=lambda x: x[1], reverse=True)\n",
        "    sim_scores = sim_scores[1:11]\n",
        "    book_indices = [i[0] for i in sim_scores]\n",
        "\n",
        "    # Obtén las recomendaciones ordenadas por ratingsCount\n",
        "    recommendations_df = books_df.loc[book_indices].sort_values(by='ratingsCount', ascending=False)\n",
        "\n",
        "    # Visualización de recomendaciones con imágenes\n",
        "    for index, row in recommendations_df.iterrows():\n",
        "        display(HTML(f\"<h4>{row['Title']}, by {row['authors']}</h4><img src='{row['image']}' alt='{row['Title']}' style='max-width:550px;'>\"))\n",
        "\n",
        "    return recommendations_df['Title']\n",
        "\n",
        "# Ejemplo de uso\n",
        "book_title = 'Dr. Seuss: American Icon'\n",
        "recommendations = get_recommendations_with_images(book_title)\n",
        "print(f\"Recomendaciones para '{book_title}':\")\n",
        "print(recommendations)\n"
      ]
    }
  ],
  "metadata": {
    "kernelspec": {
      "display_name": "nuevo",
      "language": "python",
      "name": "python3"
    },
    "language_info": {
      "codemirror_mode": {
        "name": "ipython",
        "version": 3
      },
      "file_extension": ".py",
      "mimetype": "text/x-python",
      "name": "python",
      "nbconvert_exporter": "python",
      "pygments_lexer": "ipython3",
      "version": "3.9.18"
    },
    "colab": {
      "provenance": [],
      "collapsed_sections": [
        "SdrAEqUg6u_E",
        "7AXzMnJ57JW_",
        "xtV39N2aBZMT",
        "zzQqsvnF7WUW",
        "jyjXfg8JK_fy"
      ],
      "toc_visible": true
    }
  },
  "nbformat": 4,
  "nbformat_minor": 0
}